{
  "nbformat": 4,
  "nbformat_minor": 0,
  "metadata": {
    "colab": {
      "name": "fedvision_0716.ipynb",
      "provenance": [],
      "authorship_tag": "ABX9TyN81wI4qCPJukBvT/VyTbmV",
      "include_colab_link": true
    },
    "kernelspec": {
      "name": "python3",
      "display_name": "Python 3"
    },
    "language_info": {
      "name": "python"
    }
  },
  "cells": [
    {
      "cell_type": "markdown",
      "metadata": {
        "id": "view-in-github",
        "colab_type": "text"
      },
      "source": [
        "<a href=\"https://colab.research.google.com/github/DayBright-David/FedVision/blob/main/fedvision_0716.ipynb\" target=\"_parent\"><img src=\"https://colab.research.google.com/assets/colab-badge.svg\" alt=\"Open In Colab\"/></a>"
      ]
    },
    {
      "cell_type": "code",
      "metadata": {
        "colab": {
          "base_uri": "https://localhost:8080/"
        },
        "id": "rHrCnrAsE15h",
        "outputId": "c8ec9af4-384f-4fd8-e7e7-43112deddac4"
      },
      "source": [
        "from google.colab import drive\n",
        "drive.mount(\"/content/drive\")\n"
      ],
      "execution_count": 1,
      "outputs": [
        {
          "output_type": "stream",
          "text": [
            "Mounted at /content/drive\n"
          ],
          "name": "stdout"
        }
      ]
    },
    {
      "cell_type": "code",
      "metadata": {
        "colab": {
          "base_uri": "https://localhost:8080/"
        },
        "id": "boqFggoqFBLE",
        "outputId": "1b85fb5c-63f5-4229-c7fe-a40a02afc4a5"
      },
      "source": [
        "import os\n",
        "path=\"/content/drive/My Drive/chapter03_Python_image_classification\"\n",
        "os.chdir(path)\n",
        "os.listdir(path)\n"
      ],
      "execution_count": 2,
      "outputs": [
        {
          "output_type": "execute_result",
          "data": {
            "text/plain": [
              "['datasets.py',\n",
              " 'models.py',\n",
              " 'README.md',\n",
              " '.DS_Store',\n",
              " 'server.py',\n",
              " 'client.py',\n",
              " 'main.py',\n",
              " '__pycache__',\n",
              " '.vscode',\n",
              " '.idea',\n",
              " 'figures',\n",
              " 'utils',\n",
              " 'data']"
            ]
          },
          "metadata": {
            "tags": []
          },
          "execution_count": 2
        }
      ]
    },
    {
      "cell_type": "code",
      "metadata": {
        "id": "8AzoepvIFlGw"
      },
      "source": [
        ""
      ],
      "execution_count": null,
      "outputs": []
    }
  ]
}